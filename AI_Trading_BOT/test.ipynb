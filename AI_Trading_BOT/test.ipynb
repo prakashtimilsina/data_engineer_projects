{
 "cells": [
  {
   "cell_type": "code",
   "execution_count": 5,
   "id": "19a57eea-88cd-49c3-8a27-148921b206b8",
   "metadata": {},
   "outputs": [
    {
     "name": "stderr",
     "output_type": "stream",
     "text": [
      "[*********************100%***********************]  1 of 1 completed"
     ]
    },
    {
     "name": "stdout",
     "output_type": "stream",
     "text": [
      "Price                           Close        High         Low        Open  \\\n",
      "Ticker                           AAPL        AAPL        AAPL        AAPL   \n",
      "Datetime                                                                    \n",
      "2025-01-22 16:30:00+00:00  222.565002  222.927994  221.699997  222.857895   \n",
      "2025-01-22 17:30:00+00:00  222.115707  222.850006  222.014999  222.565002   \n",
      "2025-01-22 18:30:00+00:00  222.746002  222.865005  221.910004  222.130005   \n",
      "2025-01-22 19:30:00+00:00  223.350006  223.600006  222.419998  222.744995   \n",
      "2025-01-22 20:30:00+00:00  223.789993  223.979996  223.059998  223.365005   \n",
      "\n",
      "Price                       Volume  \n",
      "Ticker                        AAPL  \n",
      "Datetime                            \n",
      "2025-01-22 16:30:00+00:00  3698854  \n",
      "2025-01-22 17:30:00+00:00  2792950  \n",
      "2025-01-22 18:30:00+00:00  2390651  \n",
      "2025-01-22 19:30:00+00:00  3576623  \n",
      "2025-01-22 20:30:00+00:00  3430332  \n"
     ]
    },
    {
     "name": "stderr",
     "output_type": "stream",
     "text": [
      "\n"
     ]
    }
   ],
   "source": [
    "import yfinance as yf  \n",
    "import pandas as pd  \n",
    "\n",
    "def fetch_stock_data(ticker, start, end):  \n",
    "    stock = yf.download(ticker, start=start, end=end, interval=\"1h\")  \n",
    "    stock.to_csv(f\"{ticker}.csv\")  \n",
    "    return stock  \n",
    "\n",
    "data = fetch_stock_data(\"AAPL\", \"2025-01-01\", \"2025-01-23\")  \n",
    "print(data.tail())  "
   ]
  },
  {
   "cell_type": "code",
   "execution_count": null,
   "id": "7011af3f-d8f2-4600-bf63-74996ab88c30",
   "metadata": {},
   "outputs": [],
   "source": []
  }
 ],
 "metadata": {
  "kernelspec": {
   "display_name": "Python 3 (ipykernel)",
   "language": "python",
   "name": "python3"
  },
  "language_info": {
   "codemirror_mode": {
    "name": "ipython",
    "version": 3
   },
   "file_extension": ".py",
   "mimetype": "text/x-python",
   "name": "python",
   "nbconvert_exporter": "python",
   "pygments_lexer": "ipython3",
   "version": "3.10.7"
  }
 },
 "nbformat": 4,
 "nbformat_minor": 5
}
